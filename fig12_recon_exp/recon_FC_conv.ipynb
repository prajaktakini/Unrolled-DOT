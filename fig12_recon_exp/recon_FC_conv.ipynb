{
 "cells": [
  {
   "cell_type": "code",
   "execution_count": null,
   "id": "9cca434b-d2ae-4b21-8560-9d773c3440a6",
   "metadata": {
    "tags": []
   },
   "outputs": [],
   "source": [
    "%load_ext autoreload\n",
    "%autoreload 2\n",
    "\n",
    "import os\n",
    "import numpy as np\n",
    "import matplotlib.pyplot as plt\n",
    "from scipy.io import savemat\n",
    "import configparser\n",
    "\n",
    "import torch\n",
    "import torch.nn as nn\n",
    "from torch.utils.data import random_split\n",
    "from torch.utils.data import DataLoader\n",
    "\n",
    "import sys\n",
    "import time\n",
    "\n",
    "setpaths_dir = \"../setpaths\"\n",
    "sys.path.append(setpaths_dir)\n",
    "from setpaths import setpaths\n",
    "libpath, datpath, resultpath, basepath = setpaths(setpaths_dir)\n",
    "\n",
    "sys.path.append(basepath)\n",
    "from lib.utils import getDatasetMat, train_model, showIms\n",
    "from lib.FC_Conv import FC_Conv"
   ]
  },
  {
   "cell_type": "code",
   "execution_count": null,
   "id": "6126f600-ebab-4d15-bd3c-4685f63ca692",
   "metadata": {
    "tags": []
   },
   "outputs": [],
   "source": [
    "rand_seed = 0\n",
    "np.random.seed(rand_seed)\n",
    "torch_seed = torch.manual_seed(rand_seed)\n",
    "\n",
    "GPUID = 2\n",
    "os.environ['CUDA_VISIBLE_DEVICES'] = str(GPUID)"
   ]
  },
  {
   "cell_type": "markdown",
   "id": "7bf4ff9a-279d-42fd-991f-ae1c4868944d",
   "metadata": {
    "tags": []
   },
   "source": [
    "#### Load training and reconstruction parameters from configuration"
   ]
  },
  {
   "cell_type": "code",
   "execution_count": null,
   "id": "1d5cd038-dd39-4f46-b6d2-528746547aeb",
   "metadata": {
    "tags": []
   },
   "outputs": [],
   "source": [
    "# configname = \"automap_settings.ini\"\n",
    "# configname = \"FC_settings.ini\"\n",
    "configname = \"automap_confocal_settings.ini\"\n",
    "# configname = \"FC_confocal_settings.ini\"\n",
    "\n",
    "fullconfigpath = os.path.join(\"settings\", configname)\n",
    "config = configparser.ConfigParser()\n",
    "_ = config.read(fullconfigpath)\n",
    "\n",
    "# Set files to read from\n",
    "nTest = int(config[\"Settings\"][\"nTest\"])\n",
    "batch_sz = int(config[\"Settings\"][\"batch_sz\"])\n",
    "nEpochs = int(config[\"Settings\"][\"nEpochs\"])\n",
    "LR = float(config[\"Settings\"][\"LR\"])\n",
    "lossFunc = config[\"Settings\"][\"lossFunc\"]\n",
    "measNormalization = float(config[\"Settings\"][\"measNormalization\"])\n",
    "loadFname = config[\"Settings\"][\"loadFname\"]\n",
    "datVarName = config[\"Settings\"][\"datVarName\"]\n",
    "displayIndices = [int(i) for i in config[\"Settings\"][\"displayIndices\"].split(',')]\n",
    "showEvery = int(config[\"Settings\"][\"showEvery\"])\n",
    "unet_nfilts = int(config[\"Settings\"][\"unet_nfilts\"])\n",
    "trainAutomap = config[\"Settings\"].getboolean(\"trainAutomap\", fallback=True)\n",
    "\n",
    "# If set conv_sizes to empty array, train FC network. Else, set to automap configuration\n",
    "FC_sizes = [1681] # width of hidden layer\n",
    "if trainAutomap:\n",
    "    conv_sizes = [(2, 32), (2, 32), 3] # size of padding, kernel size == 2*pad_size + 1\n",
    "else:\n",
    "    conv_sizes = []"
   ]
  },
  {
   "cell_type": "markdown",
   "id": "0de7c748-847e-4b44-acda-c260e5f9e2ab",
   "metadata": {},
   "source": [
    "#### Set up model and prepare for training"
   ]
  },
  {
   "cell_type": "code",
   "execution_count": null,
   "id": "18c8966e-7284-4bd3-ac67-04a6f70c6ae8",
   "metadata": {},
   "outputs": [],
   "source": [
    "savepath = os.path.join(resultpath, 'exp')\n",
    "    \n",
    "if trainAutomap:\n",
    "    model_savename = \"model_automap\"\n",
    "else:\n",
    "    model_savename = \"model_FC\"\n",
    "\n",
    "if 'conf' in loadFname:\n",
    "    model_savename += '_conf'\n",
    "\n",
    "intermed_path = os.path.join(savepath, 'intermed_' + model_savename)"
   ]
  },
  {
   "cell_type": "code",
   "execution_count": null,
   "id": "09a020b1-d552-47fb-bd3f-34b9a70a5df8",
   "metadata": {
    "tags": []
   },
   "outputs": [],
   "source": [
    "# Load in data\n",
    "loadFpath = os.path.join(datpath, loadFname + '.mat')\n",
    "full_dataset, trainInds, testInds = getDatasetMat(matpath=loadFpath, nTest=nTest, measNormalization=measNormalization, datVarName=datVarName)\n",
    "trainMeas, trainTruth = full_dataset.getFullTrainSet()\n",
    "testMeas, testTruth = full_dataset.getFullTestSet()\n",
    "szA, NBINS, nSrcDet, imY, imX = full_dataset.getDims()\n",
    "\n",
    "dev = torch.device('cuda' if torch.cuda.is_available() else 'cpu')\n",
    "\n",
    "model = FC_Conv(szA, FC_sizes, conv_sizes, dev)"
   ]
  },
  {
   "cell_type": "code",
   "execution_count": null,
   "id": "cf625e42-837e-4747-8899-c05d6b6bd6e0",
   "metadata": {},
   "outputs": [],
   "source": [
    "optimizer = torch.optim.Adam(model.parameters(), lr=LR)\n",
    "train_dataloader = DataLoader(full_dataset, batch_size=batch_sz, shuffle=True)\n",
    "\n",
    "\n",
    "train_dict = {\"batch_sz\": batch_sz,\n",
    "              \"nEpochs\": nEpochs,\n",
    "              \"showEvery\": showEvery,\n",
    "              \"lossFunc\": lossFunc,\n",
    "              \"untied\": None,\n",
    "              \"nLayers\": None,\n",
    "              \"scale_mag\": None,\n",
    "              \"lam1\": None,\n",
    "              \"LR\": LR,\n",
    "              \"vgg_weight\": 0,\n",
    "              \"unet_nfilts\": unet_nfilts}\n",
    "\n",
    "model, epoch_arr, train_losses, test_losses, misc_out = train_model(dataset_in=full_dataset, \n",
    "                                                        train_d=train_dict, dev=dev, visInds=displayIndices,\n",
    "                                                        model=model, optim=optimizer)"
   ]
  },
  {
   "cell_type": "code",
   "execution_count": null,
   "id": "9490a330-a9b8-4772-852c-c48f2070bcc4",
   "metadata": {},
   "outputs": [],
   "source": [
    "# Test results\n",
    "\n",
    "Y_test_torch, truthIms_torch = full_dataset.getFullTestSet()\n",
    "_, _, _, imY, imX = full_dataset.getDims()\n",
    "nIms = Y_test_torch.shape[1]\n",
    "\n",
    "model = model.to('cpu')\n",
    "Y_test_torch = Y_test_torch.cpu()\n",
    "if unet_nfilts > 0:\n",
    "    unet = misc_out['unet'].to('cpu')\n",
    "\n",
    "starttime = time.perf_counter()\n",
    "reconIms = model(Y_test_torch)\n",
    "if unet_nfilts > 0:\n",
    "    reconIms = unet(reconIms)\n",
    "finishtime = time.perf_counter()\n",
    "reconTime = finishtime - starttime\n",
    "\n",
    "reconIms_np = np.reshape(reconIms.detach().numpy(), (imY, imX, nIms))\n",
    "truthIms_np = truthIms_torch.cpu().detach().numpy()"
   ]
  },
  {
   "cell_type": "code",
   "execution_count": null,
   "id": "9cd76561-33ce-45b0-a6fe-9f3449bcf70b",
   "metadata": {},
   "outputs": [],
   "source": [
    "if not (os.path.isdir(savepath)):\n",
    "    os.makedirs(savepath)\n",
    "\n",
    "fullsavepath_model = os.path.join(savepath, model_savename + '.pt')\n",
    "\n",
    "pydict = {\n",
    "    \"full_dataset\": full_dataset,\n",
    "    \"train_dict\": train_dict,\n",
    "    \"model\": model,\n",
    "    \"epoch_arr\": epoch_arr, \n",
    "    \"train_losses\": train_losses,\n",
    "    \"test_losses\": test_losses,\n",
    "    \"trainInds\": trainInds,\n",
    "    \"testInds\": testInds,\n",
    "}\n",
    "for k in misc_out:\n",
    "    pydict[k] = misc_out[k]\n",
    "\n",
    "matdict = {\n",
    "    \"epoch_arr\": epoch_arr, \n",
    "    \"train_losses\": train_losses,\n",
    "    \"test_losses\": test_losses,\n",
    "    \"trainInds\": trainInds,\n",
    "    \"testInds\": testInds,\n",
    "    \"reconIms_np\": reconIms_np,\n",
    "    \"truthIms_np\": truthIms_np,\n",
    "    \"runtime_arr\": misc_out[\"runtime_arr\"],\n",
    "}\n",
    "\n",
    "torch.save(pydict, fullsavepath_model)\n",
    "\n",
    "fullsavepath_mat = os.path.join(savepath, model_savename + '.mat')\n",
    "savemat(fullsavepath_mat, matdict)\n",
    "\n",
    "print(\"Saved model to: %s\" % fullsavepath_model)"
   ]
  },
  {
   "cell_type": "code",
   "execution_count": null,
   "id": "6b7b3aa0-0b20-423d-8e48-ad33bd7ea76a",
   "metadata": {},
   "outputs": [],
   "source": []
  }
 ],
 "metadata": {
  "kernelspec": {
   "display_name": "Python 3 (ipykernel)",
   "language": "python",
   "name": "python3"
  },
  "language_info": {
   "codemirror_mode": {
    "name": "ipython",
    "version": 3
   },
   "file_extension": ".py",
   "mimetype": "text/x-python",
   "name": "python",
   "nbconvert_exporter": "python",
   "pygments_lexer": "ipython3",
   "version": "3.9.5"
  }
 },
 "nbformat": 4,
 "nbformat_minor": 5
}
